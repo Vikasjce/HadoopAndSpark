{
 "cells": [
  {
   "cell_type": "markdown",
   "metadata": {},
   "source": [
    "### Sqoop Command for help\n",
    "sqoop help # brings in the help for sqoop"
   ]
  },
  {
   "cell_type": "markdown",
   "metadata": {},
   "source": [
    "### Sqoop Information commands\n",
    "\n",
    "list databases\n",
    "-------\n",
    " sqoop list-databases \\\n",
    " \n",
    " -- connect \"jdbc:mysql://systemt.datascientistworkbench.com:3306\" \\\n",
    " \n",
    " -- username retail_dba \\\n",
    " \n",
    " -- password cloudera  \n",
    " \n",
    " list tables \n",
    " -----\n",
    " sqoop list-tables \\\n",
    " --connect \"jdbc:mysql://systemt.datascientistworkbench.com:3306/retail_db\" \\\n",
    " \n",
    " --username \"retail_dba\" \\\n",
    " \n",
    " --passowrd \"cloudera\"\n",
    " \n",
    " "
   ]
  },
  {
   "cell_type": "code",
   "execution_count": null,
   "metadata": {
    "collapsed": true
   },
   "outputs": [],
   "source": []
  }
 ],
 "metadata": {
  "kernelspec": {
   "display_name": "Python 3",
   "language": "python",
   "name": "python3"
  },
  "language_info": {
   "codemirror_mode": {
    "name": "ipython",
    "version": 3
   },
   "file_extension": ".py",
   "mimetype": "text/x-python",
   "name": "python",
   "nbconvert_exporter": "python",
   "pygments_lexer": "ipython3",
   "version": "3.6.2"
  }
 },
 "nbformat": 4,
 "nbformat_minor": 2
}
