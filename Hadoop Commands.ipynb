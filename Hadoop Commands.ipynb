{
 "cells": [
  {
   "cell_type": "markdown",
   "metadata": {},
   "source": [
    "### Commnads to check if the namenode/Datanodes running"
   ]
  },
  {
   "cell_type": "markdown",
   "metadata": {},
   "source": [
    "ps -ef|grep manager ## will give whether the ResourceManager is running\n",
    "\n",
    "ps -ef|grep namenode ## Will give whether the Nodes are running\n",
    "\n",
    "ps -fu hdfs ## check whether HDFS is running which inclues Namenode datanode and secondary namenode\n",
    "\n",
    "ps -fu yarn ## check whether the Yarn commands are running\n"
   ]
  },
  {
   "cell_type": "markdown",
   "metadata": {},
   "source": [
    "### Hadoop Commands for creating Directory\n",
    "hadoop fs -mkdir sqoop_import  #This creates the directory in the home directory of the user /user/username\n"
   ]
  },
  {
   "cell_type": "code",
   "execution_count": null,
   "metadata": {
    "collapsed": true
   },
   "outputs": [],
   "source": []
  }
 ],
 "metadata": {
  "kernelspec": {
   "display_name": "Python 3",
   "language": "python",
   "name": "python3"
  },
  "language_info": {
   "codemirror_mode": {
    "name": "ipython",
    "version": 3
   },
   "file_extension": ".py",
   "mimetype": "text/x-python",
   "name": "python",
   "nbconvert_exporter": "python",
   "pygments_lexer": "ipython3",
   "version": "3.6.2"
  }
 },
 "nbformat": 4,
 "nbformat_minor": 2
}
